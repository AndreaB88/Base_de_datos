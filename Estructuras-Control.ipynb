{
 "cells": [
  {
   "cell_type": "markdown",
   "metadata": {},
   "source": [
    "# **SPRINT 2**\n",
    "\n",
    "## **Tarea M2 T02**"
   ]
  },
  {
   "cell_type": "code",
   "execution_count": 25,
   "metadata": {},
   "outputs": [
    {
     "name": "stdout",
     "output_type": "stream",
     "text": [
      "La nota 6.5 se clasifica como Notable\n"
     ]
    }
   ],
   "source": [
    "#Ejercicio 1:El ejercicio consiste en crear una función que te clasifique una variable numérica en función de la escala Suspendido/Aprobado/Notable/Excelente.\n",
    "#Recuerda que Suspendido < 5, Aprobado > 5 y < 7, Notable > 7 y < 9 y Excelente > 9.\n",
    "\n",
    "def clasificar_notas(nota):\n",
    "    if nota < 5:    \n",
    "        result = \"Suspendido\"\n",
    "    elif nota > 7:\n",
    "        result = \"Aprobado\"\n",
    "    elif nota < 9:\n",
    "        result = \"Notable\"\n",
    "    else:\n",
    "        result = \"Excelente\" \n",
    "\n",
    "    return result \n",
    "\n",
    "nota = 6.5\n",
    "categoria = clasificar_notas(nota)\n",
    "    \n",
    "print(f\"La nota {nota} se clasifica como {categoria}\")\n",
    "\n"
   ]
  },
  {
   "cell_type": "code",
   "execution_count": 1,
   "metadata": {},
   "outputs": [
    {
     "name": "stdout",
     "output_type": "stream",
     "text": [
      "El primer numero es mayor\n"
     ]
    }
   ],
   "source": [
    "#- Ejercicio 2: Usando el siguiente tutorial crea una función que te pregunte dos números.\n",
    "# Debe mostrarte un mensaje diciendo si el primero es mayor, el segundo es mayor o son iguales.\n",
    "\n",
    "def numeros(numero1, numero2):\n",
    "    numero1 = float(input(\"Ingresa el primer numero: \"))\n",
    "    numero2 = float(input(\"Ingresa el segundo numero: \"))\n",
    "    \n",
    "    if numero1 > numero2:\n",
    "        print(\"El primer numero es mayor\")\n",
    "        \n",
    "    elif numero2 > numero1:\n",
    "        print(\"El segundo numero es mayor\")\n",
    "    else:\n",
    "        print(\"Ambos numeros son iguales\")\n",
    "        \n",
    "\n",
    "numeros(8, 6)"
   ]
  },
  {
   "cell_type": "code",
   "execution_count": 2,
   "metadata": {},
   "outputs": [
    {
     "name": "stdout",
     "output_type": "stream",
     "text": [
      "AndreaAndreaAndreaAndreaAndreaAndreaAndrea\n"
     ]
    }
   ],
   "source": [
    "#Ejercicio 3: Crea una función que te pregunte tu nombre, y pida un número. Si el número es 0, debería mostrar un mensaje de error. \n",
    "# De lo contrario, debería mostrar el nombre repetido tantas veces como indique el número. Por ejemplo, \"Joan Joan Joan\".\n",
    "\n",
    "def nombre():\n",
    "    \n",
    "    nombre = input(\"Por favor, ingresa tu nombre: \")\n",
    "    numero = int(input(\"Ingresa un numero: \"))\n",
    "\n",
    "    if numero ==0:\n",
    "        print(\"Error: El numero no puede ser cero. \")\n",
    "    else:\n",
    "        resultado = nombre * numero\n",
    "        print(resultado)\n",
    "        \n",
    "\n",
    "nombre()\n",
    "    \n",
    "    \n",
    "                 \n",
    "\n"
   ]
  },
  {
   "cell_type": "code",
   "execution_count": 13,
   "metadata": {},
   "outputs": [
    {
     "name": "stdout",
     "output_type": "stream",
     "text": [
      "La lista es simetrica y tiene 5 elementos. \n"
     ]
    }
   ],
   "source": [
    "#Ejercicio 4:Crea una función que dada una lista cualquiera, te diga si es simétrica o no. \n",
    "# Si lo es, que te diga cuántos elementos tiene.\n",
    "\n",
    "\n",
    "\n",
    "def simetria(lista):\n",
    "    return lista == lista[::-1]\n",
    "\n",
    "lista=[1, 2, 3, 2, 1]\n",
    "if simetria(lista):\n",
    "    print(\"La lista es simetrica y tiene\", len(lista), \"elementos. \")\n",
    "else:\n",
    "    print(\"La lista no es simetrica\")\n",
    "\n",
    "\n"
   ]
  },
  {
   "cell_type": "code",
   "execution_count": 4,
   "metadata": {},
   "outputs": [
    {
     "name": "stdout",
     "output_type": "stream",
     "text": [
      "Número de elementos que coinciden con su posición: 4\n"
     ]
    }
   ],
   "source": [
    "\n",
    " #Ejercicio 5:Crea una función que dada una lista, te diga cuántos números coinciden con su posición. \n",
    " # Por ejemplo [3,4,2,0,2,3,6] el 2 y el 6 coinciden.\n",
    " \n",
    " def numeros_que_coinciden(lista):\n",
    "    coinciden = 0\n",
    "    for i in range(len(lista)):\n",
    "        if lista[i] == i:\n",
    "            coinciden += 1\n",
    "    return coinciden\n",
    " \n",
    "lista = [0, 1, 2, 7, 3, 5]\n",
    "resultado = numeros_que_coinciden(lista)\n",
    "print(\"Número de elementos que coinciden con su posición:\", resultado)\n",
    "\n",
    "\n",
    "\n",
    "\n",
    "     \n",
    "     \n",
    "     \n",
    " \n",
    " "
   ]
  }
 ],
 "metadata": {
  "kernelspec": {
   "display_name": "base",
   "language": "python",
   "name": "python3"
  },
  "language_info": {
   "codemirror_mode": {
    "name": "ipython",
    "version": 3
   },
   "file_extension": ".py",
   "mimetype": "text/x-python",
   "name": "python",
   "nbconvert_exporter": "python",
   "pygments_lexer": "ipython3",
   "version": "3.10.9"
  },
  "orig_nbformat": 4
 },
 "nbformat": 4,
 "nbformat_minor": 2
}
