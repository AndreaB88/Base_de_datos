{
 "cells": [
  {
   "cell_type": "code",
   "execution_count": 6,
   "metadata": {},
   "outputs": [
    {
     "name": "stdout",
     "output_type": "stream",
     "text": [
      "1T: enero, febrero, marzo\n",
      "2T: abril, mayo, junio\n",
      "3T: julio, agosto, septiembre\n",
      "4T: octubre, noviembre, diciembre\n"
     ]
    }
   ],
   "source": [
    "# Ejercicio 1: Crea una lista que agrupe los meses del año en trimestres (1T: enero, febrero y marzo; 2T: abril, mayo, junio...), es decir, una lista con 4 listas dentro.\n",
    "\n",
    "\n",
    "meses_del_año = [\"enero\", \"febrero\", \"marzo\", \"abril\", \"mayo\", \"junio\", \"julio\", \"agosto\", \"septiembre\", \"octubre\", \"noviembre\", \"diciembre\"]\n",
    "\n",
    "\n",
    "T1 = meses_del_año[0:3]  \n",
    "T2 = meses_del_año[3:6]  \n",
    "T3 = meses_del_año[6:9] \n",
    "T4 = meses_del_año[9:12]  \n",
    "\n",
    "\n",
    "trimestres = [T1, T2, T3, T4]\n",
    "\n",
    "\n",
    "for i, trimestre in enumerate(trimestres, 1):\n",
    "    print(f\"{i}T:\", \", \".join(trimestre))\n",
    "\n",
    "    "
   ]
  },
  {
   "cell_type": "code",
   "execution_count": 2,
   "metadata": {},
   "outputs": [
    {
     "name": "stdout",
     "output_type": "stream",
     "text": [
      "El segundo mes del primer trimestre es: febrero\n",
      "Los meses del primer trimestre son: enero, febrero, marzo\n",
      "El último mes del tercer trimestre y el primero del cuarto son: septiembre, octubre\n"
     ]
    }
   ],
   "source": [
    "#Ejercicio 2:Crea un código que te permita acceder a:\n",
    "#El segundo mes del primer trimestre.\n",
    "#Los meses del primer trimestre.\n",
    "#Septiembre y octubre.\n",
    "\n",
    "meses_del_año = [\"enero\", \"febrero\", \"marzo\", \"abril\", \"mayo\", \"junio\", \"julio\", \"agosto\", \"septiembre\", \"octubre\", \"noviembre\", \"diciembre\"]\n",
    "\n",
    "segundo_mes_primer_trimestre = meses_del_año[1]\n",
    "\n",
    "primer_trimestre = meses_del_año[0:3]\n",
    "\n",
    "septiembre_y_octubre = [meses_del_año[8], meses_del_año[9]]\n",
    "\n",
    "print(\"El segundo mes del primer trimestre es:\", segundo_mes_primer_trimestre)\n",
    "print(\"Los meses del primer trimestre son:\", \", \".join(primer_trimestre))\n",
    "print(\"El último mes del tercer trimestre y el primero del cuarto son:\", \", \".join(septiembre_y_octubre))\n"
   ]
  },
  {
   "cell_type": "code",
   "execution_count": 30,
   "metadata": {},
   "outputs": [
    {
     "name": "stdout",
     "output_type": "stream",
     "text": [
      "¿Cuántos números hay? 10\n",
      "¿Cuántas veces aparece el número 3? 2\n",
      "¿Cuántas veces aparecen los números 3 y 4? 4\n",
      "¿Cuál es el mayor número? 9\n",
      "¿Cuáles son los 3 números más pequeños? [1, 3, 3]\n",
      "¿Cuál es el rango de esa lista? 8\n"
     ]
    }
   ],
   "source": [
    "#Ejercicio 3:Crea una lista con números desordenados y responde a las siguientes preguntas:\n",
    "#¿Cuántos números hay?\n",
    "#Cuántas veces aparece el número 3.\n",
    "#¿Cuántas veces aparecen los números 3 y 4?\n",
    "#¿Cuál es el mayor número?\n",
    "#¿Cuáles son los 3 números más pequeños?\n",
    "#¿Cuál es el rango de esa lista?\n",
    "\n",
    "numeros = [7, 3, 1, 5, 9, 4, 3, 8, 6, 4]\n",
    "\n",
    "cantidad_numeros = len(numeros)\n",
    "veces_numero_3 = numeros.count(3)\n",
    "veces_numero_3_y_4 = numeros.count(3) + numeros.count(4)\n",
    "mayor_numero = max(numeros)\n",
    "numeros_ordenados = sorted(numeros)\n",
    "tres_numeros_mas_pequenos = numeros_ordenados[:3]\n",
    "rango_lista = max(numeros) - min(numeros)\n",
    "\n",
    "print(\"¿Cuántos números hay?\", cantidad_numeros)\n",
    "print(\"¿Cuántas veces aparece el número 3?\", veces_numero_3)\n",
    "print(\"¿Cuántas veces aparecen los números 3 y 4?\", veces_numero_3_y_4)\n",
    "print(\"¿Cuál es el mayor número?\", mayor_numero)\n",
    "print(\"¿Cuáles son los 3 números más pequeños?\", tres_numeros_mas_pequenos)\n",
    "print(\"¿Cuál es el rango de esa lista?\", rango_lista)\n",
    "\n",
    "\n"
   ]
  },
  {
   "cell_type": "code",
   "execution_count": 29,
   "metadata": {},
   "outputs": [
    {
     "name": "stdout",
     "output_type": "stream",
     "text": [
      "¿Cuánto han costado las peras en total? 1.98 €\n",
      "¿Cuántas frutas hemos comprado en total? 10\n",
      "¿Cuál es la fruta más cara? mangos\n"
     ]
    }
   ],
   "source": [
    "#Crea un diccionario de la siguiente forma y responde a las preguntas:\n",
    "#Añade alguna fruta más\n",
    "#¿Cuánto han costado las peras en total?\n",
    "#¿Cuántas frutas hemos comprado en total?\n",
    "#¿Cuál es la fruta más cara?\n",
    "\n",
    "\n",
    "compra = {\n",
    "    \"manzanas\": {\"Qty\": 5, \"€\": 0.42},\n",
    "    \"Peras\": {\"Qty\": 3, \"€\": 0.66}\n",
    "}\n",
    "\n",
    "compra[\"mangos\"] = {\"Qty\": 2, \"€\": 0.89}\n",
    "\n",
    "costo_peras = compra[\"Peras\"][\"Qty\"] * compra[\"Peras\"][\"€\"]\n",
    "cantidad_total_frutas = sum(item[\"Qty\"] for item in compra.values())\n",
    "fruta_mas_cara = max(compra, key=lambda x: compra[x][\"€\"])\n",
    "\n",
    "print(\"¿Cuánto han costado las peras en total?\", costo_peras, \"€\")\n",
    "print(\"¿Cuántas frutas hemos comprado en total?\", cantidad_total_frutas)\n",
    "print(\"¿Cuál es la fruta más cara?\", fruta_mas_cara)\n"
   ]
  }
 ],
 "metadata": {
  "kernelspec": {
   "display_name": "base",
   "language": "python",
   "name": "python3"
  },
  "language_info": {
   "codemirror_mode": {
    "name": "ipython",
    "version": 3
   },
   "file_extension": ".py",
   "mimetype": "text/x-python",
   "name": "python",
   "nbconvert_exporter": "python",
   "pygments_lexer": "ipython3",
   "version": "3.10.9"
  },
  "orig_nbformat": 4
 },
 "nbformat": 4,
 "nbformat_minor": 2
}
