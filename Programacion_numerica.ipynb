{
 "cells": [
  {
   "cell_type": "markdown",
   "metadata": {},
   "source": [
    "# **SPRINT 3:  Programación numérica**\n",
    "\n",
    "## **Tarea M3 T01**"
   ]
  },
  {
   "cell_type": "code",
   "execution_count": 16,
   "metadata": {},
   "outputs": [
    {
     "name": "stdout",
     "output_type": "stream",
     "text": [
      "Orden ascendente:\n",
      "   Col1\n",
      "2    10\n",
      "4    20\n",
      "1    30\n",
      "3    40\n",
      "0    50\n",
      "\n",
      "Orden descendente:\n",
      "   Col1\n",
      "0    50\n",
      "3    40\n",
      "1    30\n",
      "4    20\n",
      "2    10\n"
     ]
    }
   ],
   "source": [
    "# Ejercicio 1: Dado el siguiente dataframe data = {'Col1': [50, 30, 10, 40, 20]}, ordena los valores en orden ascendente y descendente.\n",
    "\n",
    "import pandas as pd\n",
    "data  = {'Col1': [50, 30, 10, 40, 20]}\n",
    "\n",
    "df= pd.DataFrame(data)\n",
    "df_ascendente = df.sort_values(by='Col1')\n",
    "df_descendente = df.sort_values(by='Col1', ascending= False)\n",
    "\n",
    "\n",
    "print(\"Orden ascendente:\")\n",
    "print(df_ascendente)\n",
    "\n",
    "print(\"\\nOrden descendente:\")\n",
    "print(df_descendente)\n",
    "\n",
    "\n",
    "\n"
   ]
  },
  {
   "cell_type": "code",
   "execution_count": 13,
   "metadata": {},
   "outputs": [
    {
     "name": "stdout",
     "output_type": "stream",
     "text": [
      "Mayores que 30:\n",
      "   Col1\n",
      "0    50\n",
      "3    40\n"
     ]
    }
   ],
   "source": [
    "#Ejercicio 2: Dado el siguiente dataframe data = {'Col1': [50, 30, 10, 40, 20]}, filtra los valores que sean mayores que 30.\n",
    "\n",
    "import pandas as pd\n",
    "data  = {'Col1': [50, 30, 10, 40, 20]}\n",
    "df= pd.DataFrame(data)\n",
    "df_resultado = df[df['Col1']> 30]\n",
    "\n",
    "\n",
    "print(\"Mayores que 30:\")\n",
    "print(df_resultado)\n"
   ]
  },
  {
   "cell_type": "code",
   "execution_count": 12,
   "metadata": {},
   "outputs": [
    {
     "name": "stdout",
     "output_type": "stream",
     "text": [
      "Valores unicos:\n",
      "5\n"
     ]
    }
   ],
   "source": [
    "#Ejercicio 3: Dado el siguiente dataframe data = {'Col1': [50, 30, 10, 40, 10]}, contabiliza los valores únicos.\n",
    "\n",
    "import pandas as pd\n",
    "data  = {'Col1': [50, 30, 10, 40, 20]}\n",
    "df = pd.DataFrame(data)\n",
    "df_valores_unicos = df['Col1'].nunique()\n",
    "print(\"Valores unicos:\")\n",
    "print(df_valores_unicos)\n",
    "\n"
   ]
  },
  {
   "cell_type": "code",
   "execution_count": 8,
   "metadata": {},
   "outputs": [
    {
     "name": "stdout",
     "output_type": "stream",
     "text": [
      "Suma de los datos de 'Grupo' =  ABABA\n",
      "Suma de los datos de 'Col1' =  150\n"
     ]
    }
   ],
   "source": [
    "#Ejercicio 4:Dado el siguiente dataframe: data = {'Grupo': ['A', 'B', 'A', 'B', 'A'], 'Col1': [10, 20, 30, 40, 50]},\n",
    "# suma los datos que pertenecen a la misma columna.\n",
    "\n",
    "\n",
    "import pandas as pd\n",
    "data = {'Grupo': ['A', 'B', 'A', 'B', 'A'], 'Col1': [10, 20, 30, 40, 50]} \n",
    "df = pd.DataFrame(data)\n",
    "#suma_grupo = df['Grupo'].sum()\n",
    "#suma_Col1 = df['Col1'].sum()\n",
    "\n",
    "#print(\"Suma de los datos de 'Grupo' = \", suma_grupo)\n",
    "\n",
    "#print(\"Suma de los datos de 'Col1' = \", suma_Col1)\n",
    "#Corrección del ejercicio. 
    "Suma_datos = df.groupby('Grupo')['Col1'].sum()
    "print(Suma_datos)
    "\n",
    "\n",
    "\n",
    "\n",
    "\n"
   ]
  },
  {
   "cell_type": "code",
   "execution_count": 15,
   "metadata": {},
   "outputs": [
    {
     "name": "stdout",
     "output_type": "stream",
     "text": [
      "  Grupo  Col1  Col2\n",
      "0     A    10     0\n",
      "1     B    20     1\n",
      "2     A    30     1\n",
      "3     B    40     1\n",
      "4     A    50     2\n"
     ]
    }
   ],
   "source": [
    "# Ejercicio 5: Dado el siguiente dataframe: data = {'Grupo': ['A', 'B', 'A', 'B', 'A'], 'Col1': [10, 20, 30, 40, 50]}, crea una columna nueva 'Col2' que sea 2 si es superior al percentil 75% de la 'Col1',\n",
    "# 0 si es inferior al 25% del percentil de la columna 'Col1' y 1 si cae en medio.\n",
    "\n",
    "import pandas as pd\n",
    "data = {'Grupo': ['A', 'B', 'A', 'B', 'A'], 'Col1': [10, 20, 30, 40, 50]}\n",
    "df = pd.DataFrame(data)\n",
    "\n",
    "percentil_25 = df['Col1'].quantile(0.25)\n",
    "percentil_75 = df['Col1'].quantile(0.75)\n",
    "\n",
    "def asignar_valor(x):\n",
    "    if x > percentil_75:\n",
    "        return 2\n",
    "    elif x < percentil_25:\n",
    "        return 0\n",
    "    else:\n",
    "        return 1\n",
    "     \n",
    "df['Col2'] = df['Col1'].apply(asignar_valor)\n",
    "print(df)"
   ]
  },
  {
   "cell_type": "code",
   "execution_count": 18,
   "metadata": {},
   "outputs": [
    {
     "name": "stdout",
     "output_type": "stream",
     "text": [
      "  Grupo  Col1  cuadrado\n",
      "0     A    10       100\n",
      "1     B    20       400\n",
      "2     A    30       900\n",
      "3     B    40      1600\n",
      "4     A    50      2500\n"
     ]
    }
   ],
   "source": [
    "#Ejercicio 6:Dado el siguiente dataframe: data = {'Grupo': ['A', 'B', 'A', 'B', 'A'], 'Col1': [10, 20, 30, 40, 50]} , \n",
    "#aplica lambda para obtener el cuadrado de la columna 'Col1' en una nueva columna.\n",
    "\n",
    "import pandas as pd\n",
    "data = {'Grupo': ['A', 'B', 'A', 'B', 'A'], 'Col1': [10, 20, 30, 40, 50]}\n",
    "df = pd.DataFrame(data)\n",
    "df['cuadrado'] = df['Col1'].apply(lambda x: x**2)\n",
    "print(df)\n",
    "\n",
    "\n"
   ]
  }
 ],
 "metadata": {
  "kernelspec": {
   "display_name": "base",
   "language": "python",
   "name": "python3"
  },
  "language_info": {
   "codemirror_mode": {
    "name": "ipython",
    "version": 3
   },
   "file_extension": ".py",
   "mimetype": "text/x-python",
   "name": "python",
   "nbconvert_exporter": "python",
   "pygments_lexer": "ipython3",
   "version": "3.10.9"
  },
  "orig_nbformat": 4
 },
 "nbformat": 4,
 "nbformat_minor": 2
}
