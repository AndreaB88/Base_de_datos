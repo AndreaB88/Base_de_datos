{
 "cells": [
  {
   "cell_type": "markdown",
   "metadata": {},
   "source": [
    "# SPRINT 5: Ejercicios de Hipotesis Testing.\n",
    "\n",
    "## Tarea M5 T01\n",
    "\n"
   ]
  },
  {
   "cell_type": "markdown",
   "metadata": {},
   "source": [
    "### Ejercicio 1:Descarga el dataset adjunto de datos oficiales de la UEFA y selecciona un atributo del conjunto de datos. Calcula el p-valor y di si rechaza la hipótesis nula cogiendo un alfa de 5%.\n",
    "\n",
    "Información sobre el dataset:\n",
    "\n",
    "1. 'Rk': \"Posición o clasificación del equipo en una mesa o ranking.\",\n",
    "2. 'Squad': \"Nombre del equipo.\",\n",
    "3. 'Country': \"País al que pertenece el equipo.\",\n",
    "4. 'LgRk': \"Posición del equipo en su liga o competición.\",\n",
    "5. 'MP': \"Partidos jugados por el equipo.\",\n",
    "6. 'W': \"Número de victorias del equipo.\",\n",
    "7. 'D': \"Número de empates del equipo.\",\n",
    "8. 'L': \"Número de derrotas del equipo.\",\n",
    "9. 'GF': \"Goles a favor del equipo.\",\n",
    "10. 'GA': \"Goles contra el equipo.\",\n",
    "11. 'GD': \"Diferencia de goles (GF – GA) del equipo.\",\n",
    "12. 'Pts': \"Puntos obtenidos por el equipo en la competición.\",\n",
    "13. 'Pts/G': \"Media de puntos por partido jugado.\",\n",
    "14. 'xG': \"Expected Goals (goles esperados) del equipo.\",\n",
    "15. 'xGA': \"Expected Goals Allowed (goles esperados permitidos) del equipo.\",\n",
    "16. 'xGD': \"Expected Goals Difference (diferencia de goles esperados) del equipo.\",\n",
    "17. 'xGD/90': \"Expected Goals Difference por 90 minutos (diferencia de goles esperados * por 90 minutos) del equipo.\",\n",
    "18. 'Last 5': \"Resultados de los últimos 5 partidos del equipo.\",\n",
    "19. 'Attendance': \"Asistencia o número de espectadores a los partidos del equipo.\",\n",
    "20. 'Top Team Scorer': \"Máximo goleador o anotador del equipo.\"\n",
    "21. 'Goalkeeper': \"Portero o portero titular del equipo.\""
   ]
  },
  {
   "cell_type": "markdown",
   "metadata": {},
   "source": [
    "1.1 cargar el conjunto de datos"
   ]
  },
  {
   "cell_type": "code",
   "execution_count": 44,
   "metadata": {},
   "outputs": [
    {
     "data": {
      "text/html": [
       "<div>\n",
       "<style scoped>\n",
       "    .dataframe tbody tr th:only-of-type {\n",
       "        vertical-align: middle;\n",
       "    }\n",
       "\n",
       "    .dataframe tbody tr th {\n",
       "        vertical-align: top;\n",
       "    }\n",
       "\n",
       "    .dataframe thead th {\n",
       "        text-align: right;\n",
       "    }\n",
       "</style>\n",
       "<table border=\"1\" class=\"dataframe\">\n",
       "  <thead>\n",
       "    <tr style=\"text-align: right;\">\n",
       "      <th></th>\n",
       "      <th>Rk</th>\n",
       "      <th>Squad</th>\n",
       "      <th>Country</th>\n",
       "      <th>LgRk</th>\n",
       "      <th>MP</th>\n",
       "      <th>W</th>\n",
       "      <th>D</th>\n",
       "      <th>L</th>\n",
       "      <th>GF</th>\n",
       "      <th>GA</th>\n",
       "      <th>...</th>\n",
       "      <th>Pts</th>\n",
       "      <th>Pts/G</th>\n",
       "      <th>xG</th>\n",
       "      <th>xGA</th>\n",
       "      <th>xGD</th>\n",
       "      <th>xGD/90</th>\n",
       "      <th>Last 5</th>\n",
       "      <th>Attendance</th>\n",
       "      <th>Top Team Scorer</th>\n",
       "      <th>Goalkeeper</th>\n",
       "    </tr>\n",
       "  </thead>\n",
       "  <tbody>\n",
       "    <tr>\n",
       "      <th>0</th>\n",
       "      <td>1</td>\n",
       "      <td>Manchester City</td>\n",
       "      <td>ENG</td>\n",
       "      <td>1</td>\n",
       "      <td>37</td>\n",
       "      <td>28</td>\n",
       "      <td>6</td>\n",
       "      <td>3</td>\n",
       "      <td>96</td>\n",
       "      <td>24</td>\n",
       "      <td>...</td>\n",
       "      <td>90</td>\n",
       "      <td>2.43</td>\n",
       "      <td>86.1</td>\n",
       "      <td>26.8</td>\n",
       "      <td>59.3</td>\n",
       "      <td>1.60</td>\n",
       "      <td>W W W W D</td>\n",
       "      <td>52739</td>\n",
       "      <td>Kevin De Bruyne - 15</td>\n",
       "      <td>Ederson</td>\n",
       "    </tr>\n",
       "    <tr>\n",
       "      <th>1</th>\n",
       "      <td>2</td>\n",
       "      <td>Liverpool</td>\n",
       "      <td>ENG</td>\n",
       "      <td>2</td>\n",
       "      <td>36</td>\n",
       "      <td>26</td>\n",
       "      <td>8</td>\n",
       "      <td>2</td>\n",
       "      <td>89</td>\n",
       "      <td>24</td>\n",
       "      <td>...</td>\n",
       "      <td>86</td>\n",
       "      <td>2.39</td>\n",
       "      <td>84.6</td>\n",
       "      <td>33.1</td>\n",
       "      <td>51.4</td>\n",
       "      <td>1.43</td>\n",
       "      <td>W W W D W</td>\n",
       "      <td>53367</td>\n",
       "      <td>Mohamed Salah - 22</td>\n",
       "      <td>Alisson</td>\n",
       "    </tr>\n",
       "    <tr>\n",
       "      <th>2</th>\n",
       "      <td>3</td>\n",
       "      <td>Real Madrid</td>\n",
       "      <td>ESP</td>\n",
       "      <td>1</td>\n",
       "      <td>37</td>\n",
       "      <td>26</td>\n",
       "      <td>7</td>\n",
       "      <td>4</td>\n",
       "      <td>80</td>\n",
       "      <td>31</td>\n",
       "      <td>...</td>\n",
       "      <td>85</td>\n",
       "      <td>2.30</td>\n",
       "      <td>73.0</td>\n",
       "      <td>45.8</td>\n",
       "      <td>27.2</td>\n",
       "      <td>0.73</td>\n",
       "      <td>W W L W D</td>\n",
       "      <td>40624</td>\n",
       "      <td>Karim Benzema - 27</td>\n",
       "      <td>Thibaut Courtois</td>\n",
       "    </tr>\n",
       "    <tr>\n",
       "      <th>3</th>\n",
       "      <td>4</td>\n",
       "      <td>Bayern Munich</td>\n",
       "      <td>GER</td>\n",
       "      <td>1</td>\n",
       "      <td>34</td>\n",
       "      <td>24</td>\n",
       "      <td>5</td>\n",
       "      <td>5</td>\n",
       "      <td>97</td>\n",
       "      <td>37</td>\n",
       "      <td>...</td>\n",
       "      <td>77</td>\n",
       "      <td>2.26</td>\n",
       "      <td>88.1</td>\n",
       "      <td>37.1</td>\n",
       "      <td>51.0</td>\n",
       "      <td>1.50</td>\n",
       "      <td>W W L D D</td>\n",
       "      <td>33176</td>\n",
       "      <td>Robert Lewandowski - 35</td>\n",
       "      <td>Manuel Neuer</td>\n",
       "    </tr>\n",
       "    <tr>\n",
       "      <th>4</th>\n",
       "      <td>5</td>\n",
       "      <td>Paris S-G</td>\n",
       "      <td>FRA</td>\n",
       "      <td>1</td>\n",
       "      <td>37</td>\n",
       "      <td>25</td>\n",
       "      <td>8</td>\n",
       "      <td>4</td>\n",
       "      <td>85</td>\n",
       "      <td>36</td>\n",
       "      <td>...</td>\n",
       "      <td>83</td>\n",
       "      <td>2.24</td>\n",
       "      <td>71.6</td>\n",
       "      <td>38.1</td>\n",
       "      <td>33.4</td>\n",
       "      <td>0.90</td>\n",
       "      <td>W D D D W</td>\n",
       "      <td>41188</td>\n",
       "      <td>Kylian MbappÃÂÃÂÃÂÃÂÃÂÃÂÃÂÃÂÃ...</td>\n",
       "      <td>Keylor Navas</td>\n",
       "    </tr>\n",
       "  </tbody>\n",
       "</table>\n",
       "<p>5 rows × 21 columns</p>\n",
       "</div>"
      ],
      "text/plain": [
       "   Rk            Squad Country  LgRk  MP   W  D  L  GF  GA  ...  Pts  Pts/G  \\\n",
       "0   1  Manchester City     ENG     1  37  28  6  3  96  24  ...   90   2.43   \n",
       "1   2        Liverpool     ENG     2  36  26  8  2  89  24  ...   86   2.39   \n",
       "2   3      Real Madrid     ESP     1  37  26  7  4  80  31  ...   85   2.30   \n",
       "3   4    Bayern Munich     GER     1  34  24  5  5  97  37  ...   77   2.26   \n",
       "4   5        Paris S-G     FRA     1  37  25  8  4  85  36  ...   83   2.24   \n",
       "\n",
       "     xG   xGA   xGD  xGD/90     Last 5 Attendance  \\\n",
       "0  86.1  26.8  59.3    1.60  W W W W D      52739   \n",
       "1  84.6  33.1  51.4    1.43  W W W D W      53367   \n",
       "2  73.0  45.8  27.2    0.73  W W L W D      40624   \n",
       "3  88.1  37.1  51.0    1.50  W W L D D      33176   \n",
       "4  71.6  38.1  33.4    0.90  W D D D W      41188   \n",
       "\n",
       "                                     Top Team Scorer        Goalkeeper  \n",
       "0                               Kevin De Bruyne - 15           Ederson  \n",
       "1                                 Mohamed Salah - 22           Alisson  \n",
       "2                                 Karim Benzema - 27  Thibaut Courtois  \n",
       "3                            Robert Lewandowski - 35      Manuel Neuer  \n",
       "4  Kylian MbappÃÂÃÂÃÂÃÂÃÂÃÂÃÂÃÂÃ...      Keylor Navas  \n",
       "\n",
       "[5 rows x 21 columns]"
      ]
     },
     "execution_count": 44,
     "metadata": {},
     "output_type": "execute_result"
    }
   ],
   "source": [
    "import pandas as pd\n",
    "\n",
    "\n",
    "ruta = \"C:/Users/acbon/Desktop/Data Science/Lligues europees UEFA.csv\"\n",
    "\n",
    "df = pd.read_csv(ruta, encoding='ISO-8859-1')\n",
    "\n",
    "df.to_csv(ruta, index=False) # Guarda el DataFrame en un archivo CSV\n",
    "\n",
    "df.head()"
   ]
  },
  {
   "cell_type": "markdown",
   "metadata": {},
   "source": [
    "1.2 Análisis de los datos:"
   ]
  },
  {
   "cell_type": "code",
   "execution_count": 45,
   "metadata": {},
   "outputs": [
    {
     "name": "stdout",
     "output_type": "stream",
     "text": [
      "<class 'pandas.core.frame.DataFrame'>\n",
      "RangeIndex: 98 entries, 0 to 97\n",
      "Data columns (total 21 columns):\n",
      " #   Column           Non-Null Count  Dtype  \n",
      "---  ------           --------------  -----  \n",
      " 0   Rk               98 non-null     int64  \n",
      " 1   Squad            98 non-null     object \n",
      " 2   Country          98 non-null     object \n",
      " 3   LgRk             98 non-null     int64  \n",
      " 4   MP               98 non-null     int64  \n",
      " 5   W                98 non-null     int64  \n",
      " 6   D                98 non-null     int64  \n",
      " 7   L                98 non-null     int64  \n",
      " 8   GF               98 non-null     int64  \n",
      " 9   GA               98 non-null     int64  \n",
      " 10  GD               98 non-null     int64  \n",
      " 11  Pts              98 non-null     int64  \n",
      " 12  Pts/G            98 non-null     float64\n",
      " 13  xG               98 non-null     float64\n",
      " 14  xGA              98 non-null     float64\n",
      " 15  xGD              98 non-null     float64\n",
      " 16  xGD/90           98 non-null     float64\n",
      " 17  Last 5           98 non-null     object \n",
      " 18  Attendance       98 non-null     int64  \n",
      " 19  Top Team Scorer  98 non-null     object \n",
      " 20  Goalkeeper       98 non-null     object \n",
      "dtypes: float64(5), int64(11), object(5)\n",
      "memory usage: 16.2+ KB\n",
      "None\n"
     ]
    }
   ],
   "source": [
    "print(df.info())\n"
   ]
  },
  {
   "cell_type": "code",
   "execution_count": 46,
   "metadata": {},
   "outputs": [
    {
     "name": "stdout",
     "output_type": "stream",
     "text": [
      "              Rk       LgRk         MP          W          D         L  \\\n",
      "count  98.000000  98.000000  98.000000  98.000000  98.000000  98.00000   \n",
      "mean   49.500000  10.316327  36.306122  13.448980   9.408163  13.44898   \n",
      "std    28.434134   5.706926   1.152390   5.747474   2.903381   5.12347   \n",
      "min     1.000000   1.000000  34.000000   3.000000   3.000000   2.00000   \n",
      "25%    25.250000   5.250000  36.000000   9.000000   7.000000  10.00000   \n",
      "50%    49.500000  10.000000  37.000000  13.000000   9.000000  13.00000   \n",
      "75%    73.750000  15.000000  37.000000  17.000000  11.000000  17.00000   \n",
      "max    98.000000  20.000000  37.000000  28.000000  16.000000  26.00000   \n",
      "\n",
      "              GF         GA         GD        Pts      Pts/G         xG  \\\n",
      "count  98.000000  98.000000  98.000000  98.000000  98.000000  98.000000   \n",
      "mean   50.877551  50.877551   0.000000  49.734694   1.370204  48.653061   \n",
      "std    16.102933  13.634602  26.501896  16.166371   0.443903  12.453950   \n",
      "min    23.000000  24.000000 -56.000000  18.000000   0.530000  28.200000   \n",
      "25%    39.000000  40.000000 -17.750000  37.000000   1.000000  39.100000   \n",
      "50%    47.000000  50.000000  -1.000000  46.000000   1.300000  46.450000   \n",
      "75%    60.000000  59.000000  17.250000  61.750000   1.695000  55.550000   \n",
      "max    97.000000  89.000000  72.000000  90.000000   2.430000  88.100000   \n",
      "\n",
      "             xGA        xGD     xGD/90    Attendance  \n",
      "count  98.000000  98.000000  98.000000     98.000000  \n",
      "mean   48.645918  -0.005102   0.000918  24239.857143  \n",
      "std     9.812481  19.992506   0.551414  14874.171842  \n",
      "min    26.800000 -40.400000  -1.090000   5870.000000  \n",
      "25%    41.300000 -13.575000  -0.365000  12355.500000  \n",
      "50%    47.750000  -1.100000  -0.030000  20491.000000  \n",
      "75%    54.700000  12.800000   0.355000  32382.000000  \n",
      "max    73.300000  59.300000   1.600000  73150.000000  \n"
     ]
    }
   ],
   "source": [
    "print(df.describe())"
   ]
  },
  {
   "cell_type": "code",
   "execution_count": 47,
   "metadata": {},
   "outputs": [
    {
     "name": "stdout",
     "output_type": "stream",
     "text": [
      "Rk                 98\n",
      "Squad              98\n",
      "Country             5\n",
      "LgRk               20\n",
      "MP                  3\n",
      "W                  25\n",
      "D                  13\n",
      "L                  24\n",
      "GF                 47\n",
      "GA                 48\n",
      "GD                 61\n",
      "Pts                52\n",
      "Pts/G              61\n",
      "xG                 87\n",
      "xGA                88\n",
      "xGD                91\n",
      "xGD/90             77\n",
      "Last 5             80\n",
      "Attendance         98\n",
      "Top Team Scorer    98\n",
      "Goalkeeper         98\n",
      "dtype: int64\n"
     ]
    }
   ],
   "source": [
    "print(df.nunique())"
   ]
  },
  {
   "cell_type": "code",
   "execution_count": 48,
   "metadata": {},
   "outputs": [
    {
     "name": "stdout",
     "output_type": "stream",
     "text": [
      "No existe ningún null\n"
     ]
    }
   ],
   "source": [
    "df.isnull().sum()\n",
    "print(\"No existe ningún null\")"
   ]
  },
  {
   "cell_type": "markdown",
   "metadata": {},
   "source": [
    "Me ha parecido interesante analizar  la posición que tienen los equipos en la liga. EL atributo 'Pts' (Puntos obtenidos por el equipo) muestra la posición relativa del equipo en la liga o competición. Esto es fundamental para determinar si el equipo se encuentra en la parte superior, en la mitad o en la parte inferior de la tabla de clasificación. El rendimiento del equipo se traduce en puntos que son cruciales para la posición final. El análisis se basa en una prueba de Kruskal-Wallis, que es una prueba no paramétrica utilizada para comparar múltiples grupos y determinar si hay diferencias significativas en las medianas de esos grupos. \n"
   ]
  },
  {
   "cell_type": "code",
   "execution_count": 49,
   "metadata": {},
   "outputs": [
    {
     "name": "stdout",
     "output_type": "stream",
     "text": [
      "No se rechaza la hipótesis nula. No hay diferencias significativas entre los grupos.\n"
     ]
    }
   ],
   "source": [
    "from scipy.stats import kruskal\n",
    "\n",
    "columnas_relevantes = ['Pts']\n",
    "df = df[columnas_relevantes]\n",
    "\n",
    "statistic, p_value = kruskal(*grupos) # Realiza la prueba de Kruskal-Wallis\n",
    "\n",
    "alfa = 0.05\n",
    "\n",
    "if p_value < alfa:\n",
    "    print(\"Se rechaza la hipótesis nula. Hay diferencias significativas entre los grupos.\")\n",
    "else:\n",
    "    print(\"No se rechaza la hipótesis nula. No hay diferencias significativas entre los grupos.\")\n"
   ]
  },
  {
   "cell_type": "markdown",
   "metadata": {},
   "source": [
    "El resultado indica que, según el análisis estadístico realizado (en este caso, la prueba de Kruskal-Wallis), no se ha encontrado evidencia estadística para concluir que existen diferencias significativas en las puntuaciones entre los grupos (equipos) evaluados. En otras palabras, no se ha demostrado que los equipos difieran significativamente en términos de sus puntuaciones (Pts).\n",
    "\n",
    "Cuando no se rechaza la hipótesis nula, generalmente significa que las diferencias observadas entre los grupos son coherentes con lo que se esperaría si las puntuaciones se distribuyeran de manera similar entre los equipos. No hay razón para creer que un equipo tenga un rendimiento significativamente diferente al de otros equipos en función de la puntuación."
   ]
  },
  {
   "cell_type": "markdown",
   "metadata": {},
   "source": [
    "### Ejercicio 2: Con el mismo dataset selecciona otros dos atributos del conjunto de datos. Calcula los p-valores y di si rechazan la hipótesis nula cogiendo un alfa de 5%.\n",
    "\n",
    "Para este ejercicio haré una Evaluación del éxito, es decir analizar el rendimiento de cada equipo, a través de atributos como el número de victorias ('W') y el número de derrotas ('L'), estos atributos proporciona una medida directa del éxito del equipo en la competición. Estos datos son esenciales para determinar qué tan bien le va al equipo en términos de ganar partidos y alcanzar sus objetivos.\n",
    "\n",
    "La prueba estadistica que usaré a continuación es la prueba t independiente ya que es la ideal para comparar dos grupos que contienen valores numericos continuos independientes y determinar si existen diferencias significativas entre ellos. "
   ]
  },
  {
   "cell_type": "code",
   "execution_count": 58,
   "metadata": {},
   "outputs": [
    {
     "name": "stdout",
     "output_type": "stream",
     "text": [
      "Para las victorias y las derrotas, no se rechaza la hipótesis nula. No hay diferencias significativas.\n"
     ]
    }
   ],
   "source": [
    "from scipy.stats import ttest_ind\n",
    "\n",
    "df = pd.read_csv(ruta, encoding='ISO-8859-1')\n",
    "\n",
    "df.to_csv(ruta, index=False)\n",
    "\n",
    "grupo_victorias = df['W']  #Dividir el DataFrame en dos grupos según las columnas 'W' y 'L'\n",
    "grupo_derrotas = df['L']\n",
    "\n",
    "\n",
    "t_statistic_wl, p_value_wl = ttest_ind(grupo_victorias, grupo_derrotas) # Realizar una prueba t independiente para comparar las victorias y las derrotas\n",
    "\n",
    "alfa = 0.05\n",
    "\n",
    "if p_value_wl < alfa:\n",
    "    print(\"Para las victorias y las derrotas, se rechaza la hipótesis nula. Hay diferencias significativas.\")\n",
    "else:\n",
    "    print(\"Para las victorias y las derrotas, no se rechaza la hipótesis nula. No hay diferencias significativas.\")"
   ]
  },
  {
   "cell_type": "markdown",
   "metadata": {},
   "source": [
    "El resultado indica que, en función del análisis estadístico realizado en las variables de victorias y derrotas, no se han identificado diferencias significativas en el éxito entre los equipos. Esto puede sugerir un nivel de igualdad o competencia en la liga o competición analizada en lo que respecta a estos dos aspectos. Sin embargo, para una evaluación completa del éxito de cada equipo, es importante considerar otras variables relevantes."
   ]
  },
  {
   "cell_type": "markdown",
   "metadata": {},
   "source": [
    "### Ejercicio 3: Continúa con el conjunto de datos adjunto y selecciona tres atributos del conjunto de datos. Calcula el p-valor y di si rechaza la hipótesis nula cogiendo un alfa de 5%.\n",
    "\n",
    "Siguiendo con la idea de analizar el rendimiento de cada equipo en la liga, utilizaré tres atributos: Puntos (Pts), Diferencia de goles (GD) y Posición en la tabla de la liga (LgRk). Estas tres variables proporcionan una evaluación más específica del rendimiento de cada equipo en la liga o competición.\n",
    "\n",
    "Para llevar a cabo este análisis, emplearé una prueba estadística conocida como \"ANOVA de una vía\" (One-Way ANOVA). Esta prueba es adecuada cuando se comparan tres o más grupos de equipos en función de una variable específica, en este caso, el éxito de los equipos utilizando las tres variables simplificadas mencionadas anteriormente (Puntos, Diferencia de goles y Posición en la tabla de la liga). El objetivo es determinar si existen diferencias significativas entre los grupos, donde cada grupo representa a un equipo. La prueba ANOVA compara las medias de los grupos y calcula un valor-p para evaluar si las diferencias observadas son estadísticamente significativas."
   ]
  },
  {
   "cell_type": "code",
   "execution_count": 56,
   "metadata": {},
   "outputs": [
    {
     "name": "stdout",
     "output_type": "stream",
     "text": [
      "Se rechaza la hipótesis nula. Hay diferencias significativas en el éxito de los equipos.\n"
     ]
    }
   ],
   "source": [
    "from scipy.stats import f_oneway\n",
    "\n",
    "\n",
    "columnas_relevantes = ['Pts', 'GD', 'LgRk']\n",
    "df = df[columnas_relevantes]\n",
    "\n",
    "statistic, p_value = f_oneway(*[df[df['LgRk'] == i]['Pts'] for i in df['LgRk'].unique()]) # Realizar ANOVA de una vía\n",
    "\n",
    "alfa = 0.05\n",
    "\n",
    "if p_value < alfa:\n",
    "    print(\"Se rechaza la hipótesis nula. Hay diferencias significativas en el éxito de los equipos.\")\n",
    "else:\n",
    "    print(\"No se rechaza la hipótesis nula. No hay evidencia de diferencias significativas en el éxito de los equipos.\")"
   ]
  },
  {
   "cell_type": "markdown",
   "metadata": {},
   "source": [
    "\n",
    "El resultado implica que, según el análisis estadístico realizado (mediante la prueba ANOVA de una vía), se ha encontrado evidencia estadística que sugiere que al menos uno de los grupos (equipos) es significativamente diferente en términos de éxito. En otras palabras, las medias de al menos dos grupos son estadísticamente diferentes entre sí en relación con las tres variables evaluadas: Puntos (Pts), Diferencia de goles (GD) y Posición en la tabla de la liga (LgRk)."
   ]
  }
 ],
 "metadata": {
  "kernelspec": {
   "display_name": "base",
   "language": "python",
   "name": "python3"
  },
  "language_info": {
   "codemirror_mode": {
    "name": "ipython",
    "version": 3
   },
   "file_extension": ".py",
   "mimetype": "text/x-python",
   "name": "python",
   "nbconvert_exporter": "python",
   "pygments_lexer": "ipython3",
   "version": "3.10.9"
  }
 },
 "nbformat": 4,
 "nbformat_minor": 2
}
